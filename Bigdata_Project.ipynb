{
 "cells": [
  {
   "cell_type": "code",
   "execution_count": 1,
   "id": "c72ad4ac-e16c-474f-a144-be5d00d03d23",
   "metadata": {},
   "outputs": [
    {
     "name": "stdout",
     "output_type": "stream",
     "text": [
      "+--------------------+-------------+---------+-----------+-------------------+--------+-----------+\n",
      "|          State_Name|District_Name|Crop_Year|     Season|               Crop|    Area| Production|\n",
      "+--------------------+-------------+---------+-----------+-------------------+--------+-----------+\n",
      "|Andaman and Nicob...|     NICOBARS|     2000|Kharif     |           Arecanut| 1254.00|    2000.00|\n",
      "|Andaman and Nicob...|     NICOBARS|     2000|Kharif     |Other Kharif pulses|    2.00|       1.00|\n",
      "|Andaman and Nicob...|     NICOBARS|     2000|Kharif     |               Rice|  102.00|     321.00|\n",
      "|Andaman and Nicob...|     NICOBARS|     2000|Whole Year |             Banana|  176.00|     641.00|\n",
      "|Andaman and Nicob...|     NICOBARS|     2000|Whole Year |          Cashewnut|  720.00|     165.00|\n",
      "|Andaman and Nicob...|     NICOBARS|     2000|Whole Year |           Coconut |18168.00|65100000.00|\n",
      "|Andaman and Nicob...|     NICOBARS|     2000|Whole Year |         Dry ginger|   36.00|     100.00|\n",
      "|Andaman and Nicob...|     NICOBARS|     2000|Whole Year |          Sugarcane|    1.00|       2.00|\n",
      "|Andaman and Nicob...|     NICOBARS|     2000|Whole Year |       Sweet potato|    5.00|      15.00|\n",
      "|Andaman and Nicob...|     NICOBARS|     2000|Whole Year |            Tapioca|   40.00|     169.00|\n",
      "|Andaman and Nicob...|     NICOBARS|     2001|Kharif     |           Arecanut| 1254.00|    2061.00|\n",
      "|Andaman and Nicob...|     NICOBARS|     2001|Kharif     |Other Kharif pulses|    2.00|       1.00|\n",
      "|Andaman and Nicob...|     NICOBARS|     2001|Kharif     |               Rice|   83.00|     300.00|\n",
      "|Andaman and Nicob...|     NICOBARS|     2001|Whole Year |          Cashewnut|  719.00|     192.00|\n",
      "|Andaman and Nicob...|     NICOBARS|     2001|Whole Year |           Coconut |18190.00|64430000.00|\n",
      "|Andaman and Nicob...|     NICOBARS|     2001|Whole Year |         Dry ginger|   46.00|     100.00|\n",
      "|Andaman and Nicob...|     NICOBARS|     2001|Whole Year |          Sugarcane|    1.00|       1.00|\n",
      "|Andaman and Nicob...|     NICOBARS|     2001|Whole Year |       Sweet potato|   11.00|      33.00|\n",
      "|Andaman and Nicob...|     NICOBARS|     2002|Kharif     |               Rice|  189.20|     510.84|\n",
      "|Andaman and Nicob...|     NICOBARS|     2002|Whole Year |           Arecanut| 1258.00|    2083.00|\n",
      "+--------------------+-------------+---------+-----------+-------------------+--------+-----------+\n",
      "only showing top 20 rows\n",
      "\n"
     ]
    }
   ],
   "source": [
    "from pyspark.sql import SparkSession\n",
    "spark = SparkSession.builder.getOrCreate()\n",
    "Crop_Production_data = spark.read.format('csv').option('header','true').load('crop_production.csv')\n",
    "Crop_Production_data.createOrReplaceTempView('Crop_Production')\n",
    "Crop_Production_data.show()"
   ]
  },
  {
   "cell_type": "code",
   "execution_count": 2,
   "id": "6d1de9f0-4121-4d18-80d5-46ce9264872d",
   "metadata": {},
   "outputs": [
    {
     "name": "stdout",
     "output_type": "stream",
     "text": [
      "+--------------------+--------------------+\n",
      "|                Crop|    Total_Production|\n",
      "+--------------------+--------------------+\n",
      "|            Arecanut|2.0346591659999996E7|\n",
      "|              Papaya|           3922521.0|\n",
      "|        Black pepper|  1784234.4099999995|\n",
      "|             Sesamum|       1.100903086E7|\n",
      "|Beans & Mutter(Ve...|            211359.0|\n",
      "|  Other  Rabi pulses|           4805261.4|\n",
      "|           Safflower|          2821106.48|\n",
      "|           Pineapple|           2127594.0|\n",
      "|                Urad|2.2410490660000004E7|\n",
      "|               Korra|            123713.0|\n",
      "|              Orange|           2338803.0|\n",
      "|              Banana|      1.4613267964E8|\n",
      "|               Maize|      2.7334180357E8|\n",
      "|       Cowpea(Lobia)|            240638.0|\n",
      "|          Dry ginger|       1.004632912E7|\n",
      "|               Bajra|        1.29680996E8|\n",
      "|              Varagu|             49694.0|\n",
      "|           Cashewnut|  2591179.2299999995|\n",
      "|             Cabbage|            311419.0|\n",
      "|        Cotton(lint)|       2.970000157E8|\n",
      "+--------------------+--------------------+\n",
      "only showing top 20 rows\n",
      "\n"
     ]
    }
   ],
   "source": [
    "#1.Total Production by Crop\n",
    "spark.sql(\"SELECT Crop, SUM(Production) AS Total_Production FROM Crop_Production GROUP BY Crop\").show()"
   ]
  },
  {
   "cell_type": "code",
   "execution_count": 3,
   "id": "84ea20ea-b44f-404f-8cd4-de11f8acd38b",
   "metadata": {},
   "outputs": [
    {
     "name": "stdout",
     "output_type": "stream",
     "text": [
      "+----+---------+-----------------------+\n",
      "|Crop|Crop_Year|Avg_Production_Per_Year|\n",
      "+----+---------+-----------------------+\n",
      "|Rice|     2001|     113853.18331226296|\n",
      "|Rice|     2005|       98555.7599009901|\n",
      "|Rice|     1998|      99697.74556962025|\n",
      "|Rice|     2004|      94047.50981005587|\n",
      "|Rice|     2011|     120251.94049469964|\n",
      "|Rice|     2002|       87138.2922804878|\n",
      "|Rice|     2000|      96619.41720930232|\n",
      "|Rice|     2014|     135616.94393741852|\n",
      "|Rice|     2009|     102290.79778688525|\n",
      "|Rice|     2006|      99648.13841304349|\n",
      "|Rice|     2008|     110256.10193287036|\n",
      "|Rice|     2012|     119157.34085510689|\n",
      "|Rice|     2010|     110285.29212050984|\n",
      "|Rice|     1997|     108481.88467874794|\n",
      "|Rice|     2003|      104318.2576840855|\n",
      "|Rice|     1999|      98380.13333333333|\n",
      "|Rice|     2007|      98359.83974358975|\n",
      "|Rice|     2013|      128270.2855361596|\n",
      "|Rice|     2015|       74603.6329113924|\n",
      "+----+---------+-----------------------+\n",
      "\n"
     ]
    }
   ],
   "source": [
    "#2.Average Production per Year for rice\n",
    "spark.sql(\"SELECT Crop, Crop_Year, AVG(Production) AS Avg_Production_Per_Year FROM Crop_Production WHERE Crop = 'Rice' GROUP BY Crop, Crop_Year \").show()"
   ]
  },
  {
   "cell_type": "code",
   "execution_count": 4,
   "id": "05588587-43eb-49d0-a413-b1a8e7075243",
   "metadata": {},
   "outputs": [
    {
     "name": "stdout",
     "output_type": "stream",
     "text": [
      "+-----------+--------------------+\n",
      "|     Season|    Total_Production|\n",
      "+-----------+--------------------+\n",
      "|Whole Year |1.344248374501900...|\n",
      "|Autumn     | 6.441376822000001E7|\n",
      "|Winter     |4.3454982816999996E8|\n",
      "|Summer     |      1.7065792503E8|\n",
      "|Rabi       |2.0516875530800004E9|\n",
      "|Kharif     | 4.029970242700001E9|\n",
      "+-----------+--------------------+\n",
      "\n"
     ]
    }
   ],
   "source": [
    "#3.Total Production by Season\n",
    "spark.sql(\"SELECT Season, SUM(Production) AS Total_Production FROM Crop_Production GROUP BY Season\").show()"
   ]
  },
  {
   "cell_type": "code",
   "execution_count": 5,
   "id": "48e3fdb3-b148-43c1-9ead-f3af6d2a9590",
   "metadata": {},
   "outputs": [
    {
     "name": "stdout",
     "output_type": "stream",
     "text": [
      "+------------------+--------------------+\n",
      "|     District_Name|    Total_Production|\n",
      "+------------------+--------------------+\n",
      "|         KOZHIKODE|1.528073986294999...|\n",
      "|        MALAPPURAM|1.451840234216000...|\n",
      "|THIRUVANANTHAPURAM|1.002271445233000...|\n",
      "|          THRISSUR| 9.923507679699999E9|\n",
      "|            KANNUR| 9.783432072119997E9|\n",
      "+------------------+--------------------+\n",
      "\n"
     ]
    }
   ],
   "source": [
    "#4.Top 5 Districts with the Highest Total Production\n",
    "spark.sql(\"SELECT District_Name, SUM(Production) AS Total_Production FROM Crop_Production GROUP BY District_Name ORDER BY Total_Production DESC LIMIT 5\").show()"
   ]
  },
  {
   "cell_type": "code",
   "execution_count": 9,
   "id": "6d3a6846-85b0-4760-b302-c3c12d93a18a",
   "metadata": {
    "scrolled": true
   },
   "outputs": [
    {
     "name": "stdout",
     "output_type": "stream",
     "text": [
      "+---------+----------------+\n",
      "|Crop_Year|Total_Production|\n",
      "+---------+----------------+\n",
      "|     1997|        248182.0|\n",
      "|     1998|        772715.0|\n",
      "|     1999|        539730.0|\n",
      "|     2000|        616479.2|\n",
      "|     2001|       665184.01|\n",
      "|     2002|       845701.04|\n",
      "|     2003|        919793.0|\n",
      "|     2004|       1297053.0|\n",
      "|     2005|       1289496.0|\n",
      "|     2006|       1045041.0|\n",
      "|     2007|       1094524.0|\n",
      "|     2008|        997119.0|\n",
      "|     2009|        718657.0|\n",
      "|     2010|        560993.4|\n",
      "|     2011|        419646.0|\n",
      "|     2012|        453931.0|\n",
      "|     2013|        442077.0|\n",
      "|     2014|        336758.0|\n",
      "+---------+----------------+\n",
      "\n"
     ]
    }
   ],
   "source": [
    "#5.Yearly Production Trend for a Specific Crop\n",
    "spark.sql(\"SELECT Crop_Year, SUM(Production) AS Total_Production FROM Crop_production WHERE Crop = 'Sunflower' GROUP BY Crop_Year ORDER BY Crop_Year \").show()"
   ]
  },
  {
   "cell_type": "code",
   "execution_count": 10,
   "id": "4101b030-05da-47cd-bbb9-858525bfcd39",
   "metadata": {
    "scrolled": true
   },
   "outputs": [
    {
     "name": "stdout",
     "output_type": "stream",
     "text": [
      "+---------+---------+----------------+\n",
      "|     Crop|Crop_Year|Total_Production|\n",
      "+---------+---------+----------------+\n",
      "|   Banana|     2013|       8951413.0|\n",
      "|Sugarcane|     2009|   2.879256681E8|\n",
      "|Sugarcane|     1998|     2.5980911E8|\n",
      "|Sugarcane|     1997|    5.01229055E8|\n",
      "|   Banana|     2011|   1.264799859E7|\n",
      "|   Banana|     2008|     1.1212644E7|\n",
      "|Sugarcane|     2011|   3.453954733E8|\n",
      "|Sugarcane|     2008|   3.411805427E8|\n",
      "|   Banana|     2012|       4132482.0|\n",
      "|   Banana|     2006|     1.1393879E7|\n",
      "|   Banana|     2010|       7452894.4|\n",
      "|   Banana|     2014|       1754578.0|\n",
      "|Sugarcane|     2002|   2.870915822E8|\n",
      "|Sugarcane|     2010|  3.3653084189E8|\n",
      "|   Banana|     2009|      1.205107E7|\n",
      "|   Banana|     2004|      7779682.52|\n",
      "|Sugarcane|     1999|   2.940924458E8|\n",
      "|Sugarcane|     2004|  2.2990851087E8|\n",
      "|   Banana|     2000|       6614610.0|\n",
      "|Sugarcane|     2012|   3.354994489E8|\n",
      "+---------+---------+----------------+\n",
      "only showing top 20 rows\n",
      "\n"
     ]
    }
   ],
   "source": [
    "#6.Yearly Production Comparison between Different Crops\n",
    "spark.sql(\"SELECT Crop, Crop_Year, SUM(Production) AS Total_Production FROM Crop_Production WHERE Crop IN ('Coconut', 'Banana', 'Sugarcane')  \n",
    "GROUP BY Crop, Crop_Year\").show()"
   ]
  },
  {
   "cell_type": "code",
   "execution_count": 11,
   "id": "52cf9100-c9f9-4ad7-adb1-ef03f2355193",
   "metadata": {},
   "outputs": [
    {
     "name": "stdout",
     "output_type": "stream",
     "text": [
      "+------------------+---------------------+\n",
      "|     District_Name|Total_Production_2000|\n",
      "+------------------+---------------------+\n",
      "|         KOZHIKODE|         9.03135172E8|\n",
      "|THIRUVANANTHAPURAM|         6.35501032E8|\n",
      "|        MALAPPURAM|         6.26298976E8|\n",
      "+------------------+---------------------+\n",
      "\n"
     ]
    }
   ],
   "source": [
    "#7.Top 3 Districts with the Highest Production in 2000\n",
    "spark.sql(\"SELECT District_Name, SUM(Production) AS Total_Production_2000 FROM Crop_Production WHERE Crop_Year = 2000 \n",
    "GROUP BY District_Name ORDER BY Total_Production_2000 DESC LIMIT 3 \").show()"
   ]
  },
  {
   "cell_type": "code",
   "execution_count": 12,
   "id": "268d06d4-92c8-4916-85d8-5f4842d8c97f",
   "metadata": {
    "scrolled": true
   },
   "outputs": [
    {
     "name": "stdout",
     "output_type": "stream",
     "text": [
      "+--------+-----------+----------------+\n",
      "|    Crop|     Season|Total_Production|\n",
      "+--------+-----------+----------------+\n",
      "|Turmeric|Whole Year |      8925065.98|\n",
      "|Turmeric|Kharif     |        980458.8|\n",
      "|Turmeric|Rabi       |         60608.7|\n",
      "|Turmeric|Winter     |            20.0|\n",
      "|Turmeric|Autumn     |            70.0|\n",
      "|Turmeric|Summer     |            20.0|\n",
      "+--------+-----------+----------------+\n",
      "\n"
     ]
    }
   ],
   "source": [
    "#8.Season-wise Production Trends for a Specific Crop\n",
    "spark.sql(\"SELECT Crop, Season, SUM(Production) AS Total_Production FROM Crop_Production WHERE Crop = 'Turmeric' GROUP BY Crop, Season\").show()"
   ]
  },
  {
   "cell_type": "code",
   "execution_count": null,
   "id": "0c7ac951-2564-4784-af5a-ee4deeba5735",
   "metadata": {},
   "outputs": [],
   "source": [
    "spark.sql(\"\").show()"
   ]
  },
  {
   "cell_type": "code",
   "execution_count": null,
   "id": "20302a7b-c628-473a-b2ba-b5433051992c",
   "metadata": {},
   "outputs": [],
   "source": [
    "spark.sql(\"\").show()"
   ]
  }
 ],
 "metadata": {
  "kernelspec": {
   "display_name": "Python 3 (ipykernel)",
   "language": "python",
   "name": "python3"
  },
  "language_info": {
   "codemirror_mode": {
    "name": "ipython",
    "version": 3
   },
   "file_extension": ".py",
   "mimetype": "text/x-python",
   "name": "python",
   "nbconvert_exporter": "python",
   "pygments_lexer": "ipython3",
   "version": "3.10.8"
  }
 },
 "nbformat": 4,
 "nbformat_minor": 5
}
